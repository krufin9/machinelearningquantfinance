{
 "cells": [
  {
   "cell_type": "code",
   "execution_count": 5,
   "id": "d8af15f2",
   "metadata": {},
   "outputs": [],
   "source": [
    "import pandas as pd\n",
    "import numpy as np\n",
    "import matplotlib.pyplot as plt\n",
    "import yfinance as yf"
   ]
  },
  {
   "cell_type": "code",
   "execution_count": 8,
   "id": "97a73113",
   "metadata": {},
   "outputs": [
    {
     "name": "stdout",
     "output_type": "stream",
     "text": [
      "[*********************100%***********************]  1 of 1 completed\n"
     ]
    }
   ],
   "source": [
    "uber = yf.download(tickers='UBER', period='1y', interval='1d')"
   ]
  },
  {
   "cell_type": "code",
   "execution_count": 9,
   "id": "c7b8307d",
   "metadata": {},
   "outputs": [
    {
     "data": {
      "text/html": [
       "<div>\n",
       "<style scoped>\n",
       "    .dataframe tbody tr th:only-of-type {\n",
       "        vertical-align: middle;\n",
       "    }\n",
       "\n",
       "    .dataframe tbody tr th {\n",
       "        vertical-align: top;\n",
       "    }\n",
       "\n",
       "    .dataframe thead th {\n",
       "        text-align: right;\n",
       "    }\n",
       "</style>\n",
       "<table border=\"1\" class=\"dataframe\">\n",
       "  <thead>\n",
       "    <tr style=\"text-align: right;\">\n",
       "      <th></th>\n",
       "      <th>Open</th>\n",
       "      <th>High</th>\n",
       "      <th>Low</th>\n",
       "      <th>Close</th>\n",
       "      <th>Adj Close</th>\n",
       "      <th>Volume</th>\n",
       "    </tr>\n",
       "    <tr>\n",
       "      <th>Date</th>\n",
       "      <th></th>\n",
       "      <th></th>\n",
       "      <th></th>\n",
       "      <th></th>\n",
       "      <th></th>\n",
       "      <th></th>\n",
       "    </tr>\n",
       "  </thead>\n",
       "  <tbody>\n",
       "    <tr>\n",
       "      <th>2020-11-30</th>\n",
       "      <td>50.220001</td>\n",
       "      <td>51.005001</td>\n",
       "      <td>48.529999</td>\n",
       "      <td>49.660000</td>\n",
       "      <td>49.660000</td>\n",
       "      <td>17221500</td>\n",
       "    </tr>\n",
       "    <tr>\n",
       "      <th>2020-12-01</th>\n",
       "      <td>50.000000</td>\n",
       "      <td>51.410000</td>\n",
       "      <td>49.070000</td>\n",
       "      <td>49.630001</td>\n",
       "      <td>49.630001</td>\n",
       "      <td>20605500</td>\n",
       "    </tr>\n",
       "    <tr>\n",
       "      <th>2020-12-02</th>\n",
       "      <td>49.259998</td>\n",
       "      <td>53.450001</td>\n",
       "      <td>48.529999</td>\n",
       "      <td>53.090000</td>\n",
       "      <td>53.090000</td>\n",
       "      <td>30381500</td>\n",
       "    </tr>\n",
       "    <tr>\n",
       "      <th>2020-12-03</th>\n",
       "      <td>53.299999</td>\n",
       "      <td>53.490002</td>\n",
       "      <td>52.119999</td>\n",
       "      <td>52.520000</td>\n",
       "      <td>52.520000</td>\n",
       "      <td>13122400</td>\n",
       "    </tr>\n",
       "    <tr>\n",
       "      <th>2020-12-04</th>\n",
       "      <td>52.709999</td>\n",
       "      <td>54.860001</td>\n",
       "      <td>52.709999</td>\n",
       "      <td>54.860001</td>\n",
       "      <td>54.860001</td>\n",
       "      <td>22207900</td>\n",
       "    </tr>\n",
       "  </tbody>\n",
       "</table>\n",
       "</div>"
      ],
      "text/plain": [
       "                 Open       High        Low      Close  Adj Close    Volume\n",
       "Date                                                                       \n",
       "2020-11-30  50.220001  51.005001  48.529999  49.660000  49.660000  17221500\n",
       "2020-12-01  50.000000  51.410000  49.070000  49.630001  49.630001  20605500\n",
       "2020-12-02  49.259998  53.450001  48.529999  53.090000  53.090000  30381500\n",
       "2020-12-03  53.299999  53.490002  52.119999  52.520000  52.520000  13122400\n",
       "2020-12-04  52.709999  54.860001  52.709999  54.860001  54.860001  22207900"
      ]
     },
     "execution_count": 9,
     "metadata": {},
     "output_type": "execute_result"
    }
   ],
   "source": [
    "uber.head()"
   ]
  },
  {
   "cell_type": "code",
   "execution_count": 11,
   "id": "16bf0d16",
   "metadata": {},
   "outputs": [
    {
     "data": {
      "text/plain": [
       "<AxesSubplot:xlabel='Date'>"
      ]
     },
     "execution_count": 11,
     "metadata": {},
     "output_type": "execute_result"
    },
    {
     "data": {
      "image/png": "[encoded data removed]",
      "text/plain": [
       "<Figure size 432x288 with 1 Axes>"
      ]
     },
     "metadata": {
      "needs_background": "light"
     },
     "output_type": "display_data"
    }
   ],
   "source": [
    "uber['Close'].plot()"
   ]
  },
  {
   "cell_type": "code",
   "execution_count": 21,
   "id": "873c9da2",
   "metadata": {},
   "outputs": [],
   "source": [
    "uber['return'] = uber['Close'].pct_change(1)"
   ]
  },
  {
   "cell_type": "code",
   "execution_count": 19,
   "id": "dbe3d287",
   "metadata": {},
   "outputs": [],
   "source": [
    "del uber['return2']"
   ]
  },
  {
   "cell_type": "code",
   "execution_count": 22,
   "id": "9706fa06",
   "metadata": {},
   "outputs": [
    {
     "data": {
      "text/html": [
       "<div>\n",
       "<style scoped>\n",
       "    .dataframe tbody tr th:only-of-type {\n",
       "        vertical-align: middle;\n",
       "    }\n",
       "\n",
       "    .dataframe tbody tr th {\n",
       "        vertical-align: top;\n",
       "    }\n",
       "\n",
       "    .dataframe thead th {\n",
       "        text-align: right;\n",
       "    }\n",
       "</style>\n",
       "<table border=\"1\" class=\"dataframe\">\n",
       "  <thead>\n",
       "    <tr style=\"text-align: right;\">\n",
       "      <th></th>\n",
       "      <th>Open</th>\n",
       "      <th>High</th>\n",
       "      <th>Low</th>\n",
       "      <th>Close</th>\n",
       "      <th>Adj Close</th>\n",
       "      <th>Volume</th>\n",
       "      <th>return</th>\n",
       "    </tr>\n",
       "    <tr>\n",
       "      <th>Date</th>\n",
       "      <th></th>\n",
       "      <th></th>\n",
       "      <th></th>\n",
       "      <th></th>\n",
       "      <th></th>\n",
       "      <th></th>\n",
       "      <th></th>\n",
       "    </tr>\n",
       "  </thead>\n",
       "  <tbody>\n",
       "    <tr>\n",
       "      <th>2020-11-30</th>\n",
       "      <td>50.220001</td>\n",
       "      <td>51.005001</td>\n",
       "      <td>48.529999</td>\n",
       "      <td>49.660000</td>\n",
       "      <td>49.660000</td>\n",
       "      <td>17221500</td>\n",
       "      <td>NaN</td>\n",
       "    </tr>\n",
       "    <tr>\n",
       "      <th>2020-12-01</th>\n",
       "      <td>50.000000</td>\n",
       "      <td>51.410000</td>\n",
       "      <td>49.070000</td>\n",
       "      <td>49.630001</td>\n",
       "      <td>49.630001</td>\n",
       "      <td>20605500</td>\n",
       "      <td>-0.000604</td>\n",
       "    </tr>\n",
       "    <tr>\n",
       "      <th>2020-12-02</th>\n",
       "      <td>49.259998</td>\n",
       "      <td>53.450001</td>\n",
       "      <td>48.529999</td>\n",
       "      <td>53.090000</td>\n",
       "      <td>53.090000</td>\n",
       "      <td>30381500</td>\n",
       "      <td>0.069716</td>\n",
       "    </tr>\n",
       "    <tr>\n",
       "      <th>2020-12-03</th>\n",
       "      <td>53.299999</td>\n",
       "      <td>53.490002</td>\n",
       "      <td>52.119999</td>\n",
       "      <td>52.520000</td>\n",
       "      <td>52.520000</td>\n",
       "      <td>13122400</td>\n",
       "      <td>-0.010736</td>\n",
       "    </tr>\n",
       "    <tr>\n",
       "      <th>2020-12-04</th>\n",
       "      <td>52.709999</td>\n",
       "      <td>54.860001</td>\n",
       "      <td>52.709999</td>\n",
       "      <td>54.860001</td>\n",
       "      <td>54.860001</td>\n",
       "      <td>22207900</td>\n",
       "      <td>0.044554</td>\n",
       "    </tr>\n",
       "  </tbody>\n",
       "</table>\n",
       "</div>"
      ],
      "text/plain": [
       "                 Open       High        Low      Close  Adj Close    Volume  \\\n",
       "Date                                                                          \n",
       "2020-11-30  50.220001  51.005001  48.529999  49.660000  49.660000  17221500   \n",
       "2020-12-01  50.000000  51.410000  49.070000  49.630001  49.630001  20605500   \n",
       "2020-12-02  49.259998  53.450001  48.529999  53.090000  53.090000  30381500   \n",
       "2020-12-03  53.299999  53.490002  52.119999  52.520000  52.520000  13122400   \n",
       "2020-12-04  52.709999  54.860001  52.709999  54.860001  54.860001  22207900   \n",
       "\n",
       "              return  \n",
       "Date                  \n",
       "2020-11-30       NaN  \n",
       "2020-12-01 -0.000604  \n",
       "2020-12-02  0.069716  \n",
       "2020-12-03 -0.010736  \n",
       "2020-12-04  0.044554  "
      ]
     },
     "execution_count": 22,
     "metadata": {},
     "output_type": "execute_result"
    }
   ],
   "source": [
    "uber.head()"
   ]
  },
  {
   "cell_type": "code",
   "execution_count": 28,
   "id": "447707a6",
   "metadata": {},
   "outputs": [
    {
     "data": {
      "image/png": "[encoded data removed]",
      "text/plain": [
       "<Figure size 432x288 with 1 Axes>"
      ]
     },
     "metadata": {
      "needs_background": "light"
     },
     "output_type": "display_data"
    }
   ],
   "source": [
    "uber['return'].hist(bins=100);"
   ]
  },
  {
   "cell_type": "code",
   "execution_count": 29,
   "id": "5cf0f859",
   "metadata": {},
   "outputs": [
    {
     "name": "stdout",
     "output_type": "stream",
     "text": [
      "[*********************100%***********************]  1 of 1 completed\n"
     ]
    }
   ],
   "source": [
    "tsla = yf.download(tickers='TSLA', period='1y', interval='1d')"
   ]
  },
  {
   "cell_type": "code",
   "execution_count": 30,
   "id": "3f39b090",
   "metadata": {},
   "outputs": [
    {
     "data": {
      "text/html": [
       "<div>\n",
       "<style scoped>\n",
       "    .dataframe tbody tr th:only-of-type {\n",
       "        vertical-align: middle;\n",
       "    }\n",
       "\n",
       "    .dataframe tbody tr th {\n",
       "        vertical-align: top;\n",
       "    }\n",
       "\n",
       "    .dataframe thead th {\n",
       "        text-align: right;\n",
       "    }\n",
       "</style>\n",
       "<table border=\"1\" class=\"dataframe\">\n",
       "  <thead>\n",
       "    <tr style=\"text-align: right;\">\n",
       "      <th></th>\n",
       "      <th>Open</th>\n",
       "      <th>High</th>\n",
       "      <th>Low</th>\n",
       "      <th>Close</th>\n",
       "      <th>Adj Close</th>\n",
       "      <th>Volume</th>\n",
       "    </tr>\n",
       "    <tr>\n",
       "      <th>Date</th>\n",
       "      <th></th>\n",
       "      <th></th>\n",
       "      <th></th>\n",
       "      <th></th>\n",
       "      <th></th>\n",
       "      <th></th>\n",
       "    </tr>\n",
       "  </thead>\n",
       "  <tbody>\n",
       "    <tr>\n",
       "      <th>2020-11-30</th>\n",
       "      <td>602.210022</td>\n",
       "      <td>607.799988</td>\n",
       "      <td>554.510010</td>\n",
       "      <td>567.599976</td>\n",
       "      <td>567.599976</td>\n",
       "      <td>63003100</td>\n",
       "    </tr>\n",
       "    <tr>\n",
       "      <th>2020-12-01</th>\n",
       "      <td>597.590027</td>\n",
       "      <td>597.849976</td>\n",
       "      <td>572.049988</td>\n",
       "      <td>584.760010</td>\n",
       "      <td>584.760010</td>\n",
       "      <td>40103500</td>\n",
       "    </tr>\n",
       "    <tr>\n",
       "      <th>2020-12-02</th>\n",
       "      <td>556.440002</td>\n",
       "      <td>571.539978</td>\n",
       "      <td>541.210022</td>\n",
       "      <td>568.820007</td>\n",
       "      <td>568.820007</td>\n",
       "      <td>47775700</td>\n",
       "    </tr>\n",
       "    <tr>\n",
       "      <th>2020-12-03</th>\n",
       "      <td>590.020020</td>\n",
       "      <td>598.969971</td>\n",
       "      <td>582.429993</td>\n",
       "      <td>593.380005</td>\n",
       "      <td>593.380005</td>\n",
       "      <td>42552000</td>\n",
       "    </tr>\n",
       "    <tr>\n",
       "      <th>2020-12-04</th>\n",
       "      <td>591.010010</td>\n",
       "      <td>599.039978</td>\n",
       "      <td>585.500000</td>\n",
       "      <td>599.039978</td>\n",
       "      <td>599.039978</td>\n",
       "      <td>29401300</td>\n",
       "    </tr>\n",
       "  </tbody>\n",
       "</table>\n",
       "</div>"
      ],
      "text/plain": [
       "                  Open        High         Low       Close   Adj Close  \\\n",
       "Date                                                                     \n",
       "2020-11-30  602.210022  607.799988  554.510010  567.599976  567.599976   \n",
       "2020-12-01  597.590027  597.849976  572.049988  584.760010  584.760010   \n",
       "2020-12-02  556.440002  571.539978  541.210022  568.820007  568.820007   \n",
       "2020-12-03  590.020020  598.969971  582.429993  593.380005  593.380005   \n",
       "2020-12-04  591.010010  599.039978  585.500000  599.039978  599.039978   \n",
       "\n",
       "              Volume  \n",
       "Date                  \n",
       "2020-11-30  63003100  \n",
       "2020-12-01  40103500  \n",
       "2020-12-02  47775700  \n",
       "2020-12-03  42552000  \n",
       "2020-12-04  29401300  "
      ]
     },
     "execution_count": 30,
     "metadata": {},
     "output_type": "execute_result"
    }
   ],
   "source": [
    "tsla.head()"
   ]
  },
  {
   "cell_type": "code",
   "execution_count": 31,
   "id": "524006a2",
   "metadata": {},
   "outputs": [],
   "source": [
    "tsla['return'] = tsla['Close'].pct_change(1)"
   ]
  },
  {
   "cell_type": "code",
   "execution_count": 32,
   "id": "71e405da",
   "metadata": {},
   "outputs": [
    {
     "data": {
      "text/html": [
       "<div>\n",
       "<style scoped>\n",
       "    .dataframe tbody tr th:only-of-type {\n",
       "        vertical-align: middle;\n",
       "    }\n",
       "\n",
       "    .dataframe tbody tr th {\n",
       "        vertical-align: top;\n",
       "    }\n",
       "\n",
       "    .dataframe thead th {\n",
       "        text-align: right;\n",
       "    }\n",
       "</style>\n",
       "<table border=\"1\" class=\"dataframe\">\n",
       "  <thead>\n",
       "    <tr style=\"text-align: right;\">\n",
       "      <th></th>\n",
       "      <th>Open</th>\n",
       "      <th>High</th>\n",
       "      <th>Low</th>\n",
       "      <th>Close</th>\n",
       "      <th>Adj Close</th>\n",
       "      <th>Volume</th>\n",
       "      <th>return</th>\n",
       "    </tr>\n",
       "    <tr>\n",
       "      <th>Date</th>\n",
       "      <th></th>\n",
       "      <th></th>\n",
       "      <th></th>\n",
       "      <th></th>\n",
       "      <th></th>\n",
       "      <th></th>\n",
       "      <th></th>\n",
       "    </tr>\n",
       "  </thead>\n",
       "  <tbody>\n",
       "    <tr>\n",
       "      <th>2020-11-30</th>\n",
       "      <td>602.210022</td>\n",
       "      <td>607.799988</td>\n",
       "      <td>554.510010</td>\n",
       "      <td>567.599976</td>\n",
       "      <td>567.599976</td>\n",
       "      <td>63003100</td>\n",
       "      <td>NaN</td>\n",
       "    </tr>\n",
       "    <tr>\n",
       "      <th>2020-12-01</th>\n",
       "      <td>597.590027</td>\n",
       "      <td>597.849976</td>\n",
       "      <td>572.049988</td>\n",
       "      <td>584.760010</td>\n",
       "      <td>584.760010</td>\n",
       "      <td>40103500</td>\n",
       "      <td>0.030233</td>\n",
       "    </tr>\n",
       "    <tr>\n",
       "      <th>2020-12-02</th>\n",
       "      <td>556.440002</td>\n",
       "      <td>571.539978</td>\n",
       "      <td>541.210022</td>\n",
       "      <td>568.820007</td>\n",
       "      <td>568.820007</td>\n",
       "      <td>47775700</td>\n",
       "      <td>-0.027259</td>\n",
       "    </tr>\n",
       "    <tr>\n",
       "      <th>2020-12-03</th>\n",
       "      <td>590.020020</td>\n",
       "      <td>598.969971</td>\n",
       "      <td>582.429993</td>\n",
       "      <td>593.380005</td>\n",
       "      <td>593.380005</td>\n",
       "      <td>42552000</td>\n",
       "      <td>0.043177</td>\n",
       "    </tr>\n",
       "    <tr>\n",
       "      <th>2020-12-04</th>\n",
       "      <td>591.010010</td>\n",
       "      <td>599.039978</td>\n",
       "      <td>585.500000</td>\n",
       "      <td>599.039978</td>\n",
       "      <td>599.039978</td>\n",
       "      <td>29401300</td>\n",
       "      <td>0.009539</td>\n",
       "    </tr>\n",
       "  </tbody>\n",
       "</table>\n",
       "</div>"
      ],
      "text/plain": [
       "                  Open        High         Low       Close   Adj Close  \\\n",
       "Date                                                                     \n",
       "2020-11-30  602.210022  607.799988  554.510010  567.599976  567.599976   \n",
       "2020-12-01  597.590027  597.849976  572.049988  584.760010  584.760010   \n",
       "2020-12-02  556.440002  571.539978  541.210022  568.820007  568.820007   \n",
       "2020-12-03  590.020020  598.969971  582.429993  593.380005  593.380005   \n",
       "2020-12-04  591.010010  599.039978  585.500000  599.039978  599.039978   \n",
       "\n",
       "              Volume    return  \n",
       "Date                            \n",
       "2020-11-30  63003100       NaN  \n",
       "2020-12-01  40103500  0.030233  \n",
       "2020-12-02  47775700 -0.027259  \n",
       "2020-12-03  42552000  0.043177  \n",
       "2020-12-04  29401300  0.009539  "
      ]
     },
     "execution_count": 32,
     "metadata": {},
     "output_type": "execute_result"
    }
   ],
   "source": [
    "tsla.head()"
   ]
  },
  {
   "cell_type": "code",
   "execution_count": 34,
   "id": "31d8ceeb",
   "metadata": {},
   "outputs": [
    {
     "data": {
      "text/plain": [
       "<AxesSubplot:xlabel='Date'>"
      ]
     },
     "execution_count": 34,
     "metadata": {},
     "output_type": "execute_result"
    },
    {
     "data": {
      "image/png": "[encoded data removed]",
      "text/plain": [
       "<Figure size 432x288 with 1 Axes>"
      ]
     },
     "metadata": {
      "needs_background": "light"
     },
     "output_type": "display_data"
    }
   ],
   "source": [
    "tsla['Close'].plot()"
   ]
  },
  {
   "cell_type": "code",
   "execution_count": 35,
   "id": "ab7a7d8f",
   "metadata": {},
   "outputs": [
    {
     "data": {
      "image/png": "[encoded data removed]",
      "text/plain": [
       "<Figure size 432x288 with 1 Axes>"
      ]
     },
     "metadata": {
      "needs_background": "light"
     },
     "output_type": "display_data"
    }
   ],
   "source": [
    "tsla['return'].hist(bins=100);"
   ]
  },
  {
   "cell_type": "code",
   "execution_count": 36,
   "id": "5691b394",
   "metadata": {},
   "outputs": [
    {
     "name": "stdout",
     "output_type": "stream",
     "text": [
      "[*********************100%***********************]  1 of 1 completed\n"
     ]
    }
   ],
   "source": [
    "google = yf.download(tickers='GOOG', period='5y', interval='1d')"
   ]
  },
  {
   "cell_type": "code",
   "execution_count": 37,
   "id": "9d1e00b4",
   "metadata": {},
   "outputs": [
    {
     "data": {
      "text/html": [
       "<div>\n",
       "<style scoped>\n",
       "    .dataframe tbody tr th:only-of-type {\n",
       "        vertical-align: middle;\n",
       "    }\n",
       "\n",
       "    .dataframe tbody tr th {\n",
       "        vertical-align: top;\n",
       "    }\n",
       "\n",
       "    .dataframe thead th {\n",
       "        text-align: right;\n",
       "    }\n",
       "</style>\n",
       "<table border=\"1\" class=\"dataframe\">\n",
       "  <thead>\n",
       "    <tr style=\"text-align: right;\">\n",
       "      <th></th>\n",
       "      <th>Open</th>\n",
       "      <th>High</th>\n",
       "      <th>Low</th>\n",
       "      <th>Close</th>\n",
       "      <th>Adj Close</th>\n",
       "      <th>Volume</th>\n",
       "    </tr>\n",
       "    <tr>\n",
       "      <th>Date</th>\n",
       "      <th></th>\n",
       "      <th></th>\n",
       "      <th></th>\n",
       "      <th></th>\n",
       "      <th></th>\n",
       "      <th></th>\n",
       "    </tr>\n",
       "  </thead>\n",
       "  <tbody>\n",
       "    <tr>\n",
       "      <th>2016-11-29</th>\n",
       "      <td>771.530029</td>\n",
       "      <td>778.500000</td>\n",
       "      <td>768.239990</td>\n",
       "      <td>770.840027</td>\n",
       "      <td>770.840027</td>\n",
       "      <td>1616600</td>\n",
       "    </tr>\n",
       "    <tr>\n",
       "      <th>2016-11-30</th>\n",
       "      <td>770.070007</td>\n",
       "      <td>772.989990</td>\n",
       "      <td>754.830017</td>\n",
       "      <td>758.039978</td>\n",
       "      <td>758.039978</td>\n",
       "      <td>2392900</td>\n",
       "    </tr>\n",
       "    <tr>\n",
       "      <th>2016-12-01</th>\n",
       "      <td>757.440002</td>\n",
       "      <td>759.849976</td>\n",
       "      <td>737.025024</td>\n",
       "      <td>747.919983</td>\n",
       "      <td>747.919983</td>\n",
       "      <td>3017900</td>\n",
       "    </tr>\n",
       "    <tr>\n",
       "      <th>2016-12-02</th>\n",
       "      <td>744.590027</td>\n",
       "      <td>754.000000</td>\n",
       "      <td>743.099976</td>\n",
       "      <td>750.500000</td>\n",
       "      <td>750.500000</td>\n",
       "      <td>1452500</td>\n",
       "    </tr>\n",
       "    <tr>\n",
       "      <th>2016-12-05</th>\n",
       "      <td>757.710022</td>\n",
       "      <td>763.900024</td>\n",
       "      <td>752.900024</td>\n",
       "      <td>762.520020</td>\n",
       "      <td>762.520020</td>\n",
       "      <td>1394200</td>\n",
       "    </tr>\n",
       "  </tbody>\n",
       "</table>\n",
       "</div>"
      ],
      "text/plain": [
       "                  Open        High         Low       Close   Adj Close  \\\n",
       "Date                                                                     \n",
       "2016-11-29  771.530029  778.500000  768.239990  770.840027  770.840027   \n",
       "2016-11-30  770.070007  772.989990  754.830017  758.039978  758.039978   \n",
       "2016-12-01  757.440002  759.849976  737.025024  747.919983  747.919983   \n",
       "2016-12-02  744.590027  754.000000  743.099976  750.500000  750.500000   \n",
       "2016-12-05  757.710022  763.900024  752.900024  762.520020  762.520020   \n",
       "\n",
       "             Volume  \n",
       "Date                 \n",
       "2016-11-29  1616600  \n",
       "2016-11-30  2392900  \n",
       "2016-12-01  3017900  \n",
       "2016-12-02  1452500  \n",
       "2016-12-05  1394200  "
      ]
     },
     "execution_count": 37,
     "metadata": {},
     "output_type": "execute_result"
    }
   ],
   "source": [
    "google.head()"
   ]
  },
  {
   "cell_type": "code",
   "execution_count": 38,
   "id": "9bb9a872",
   "metadata": {},
   "outputs": [
    {
     "data": {
      "text/plain": [
       "<AxesSubplot:xlabel='Date'>"
      ]
     },
     "execution_count": 38,
     "metadata": {},
     "output_type": "execute_result"
    },
    {
     "data": {
      "image/png": "[encoded data removed]",
      "text/plain": [
       "<Figure size 432x288 with 1 Axes>"
      ]
     },
     "metadata": {
      "needs_background": "light"
     },
     "output_type": "display_data"
    }
   ],
   "source": [
    "google['Close'].plot()"
   ]
  },
  {
   "cell_type": "code",
   "execution_count": 39,
   "id": "94852179",
   "metadata": {},
   "outputs": [],
   "source": [
    "google['return'] = google['Close'].pct_change(1)"
   ]
  },
  {
   "cell_type": "code",
   "execution_count": 40,
   "id": "28846fee",
   "metadata": {},
   "outputs": [
    {
     "data": {
      "text/html": [
       "<div>\n",
       "<style scoped>\n",
       "    .dataframe tbody tr th:only-of-type {\n",
       "        vertical-align: middle;\n",
       "    }\n",
       "\n",
       "    .dataframe tbody tr th {\n",
       "        vertical-align: top;\n",
       "    }\n",
       "\n",
       "    .dataframe thead th {\n",
       "        text-align: right;\n",
       "    }\n",
       "</style>\n",
       "<table border=\"1\" class=\"dataframe\">\n",
       "  <thead>\n",
       "    <tr style=\"text-align: right;\">\n",
       "      <th></th>\n",
       "      <th>Open</th>\n",
       "      <th>High</th>\n",
       "      <th>Low</th>\n",
       "      <th>Close</th>\n",
       "      <th>Adj Close</th>\n",
       "      <th>Volume</th>\n",
       "      <th>return</th>\n",
       "    </tr>\n",
       "    <tr>\n",
       "      <th>Date</th>\n",
       "      <th></th>\n",
       "      <th></th>\n",
       "      <th></th>\n",
       "      <th></th>\n",
       "      <th></th>\n",
       "      <th></th>\n",
       "      <th></th>\n",
       "    </tr>\n",
       "  </thead>\n",
       "  <tbody>\n",
       "    <tr>\n",
       "      <th>2016-11-29</th>\n",
       "      <td>771.530029</td>\n",
       "      <td>778.500000</td>\n",
       "      <td>768.239990</td>\n",
       "      <td>770.840027</td>\n",
       "      <td>770.840027</td>\n",
       "      <td>1616600</td>\n",
       "      <td>NaN</td>\n",
       "    </tr>\n",
       "    <tr>\n",
       "      <th>2016-11-30</th>\n",
       "      <td>770.070007</td>\n",
       "      <td>772.989990</td>\n",
       "      <td>754.830017</td>\n",
       "      <td>758.039978</td>\n",
       "      <td>758.039978</td>\n",
       "      <td>2392900</td>\n",
       "      <td>-0.016605</td>\n",
       "    </tr>\n",
       "    <tr>\n",
       "      <th>2016-12-01</th>\n",
       "      <td>757.440002</td>\n",
       "      <td>759.849976</td>\n",
       "      <td>737.025024</td>\n",
       "      <td>747.919983</td>\n",
       "      <td>747.919983</td>\n",
       "      <td>3017900</td>\n",
       "      <td>-0.013350</td>\n",
       "    </tr>\n",
       "    <tr>\n",
       "      <th>2016-12-02</th>\n",
       "      <td>744.590027</td>\n",
       "      <td>754.000000</td>\n",
       "      <td>743.099976</td>\n",
       "      <td>750.500000</td>\n",
       "      <td>750.500000</td>\n",
       "      <td>1452500</td>\n",
       "      <td>0.003450</td>\n",
       "    </tr>\n",
       "    <tr>\n",
       "      <th>2016-12-05</th>\n",
       "      <td>757.710022</td>\n",
       "      <td>763.900024</td>\n",
       "      <td>752.900024</td>\n",
       "      <td>762.520020</td>\n",
       "      <td>762.520020</td>\n",
       "      <td>1394200</td>\n",
       "      <td>0.016016</td>\n",
       "    </tr>\n",
       "  </tbody>\n",
       "</table>\n",
       "</div>"
      ],
      "text/plain": [
       "                  Open        High         Low       Close   Adj Close  \\\n",
       "Date                                                                     \n",
       "2016-11-29  771.530029  778.500000  768.239990  770.840027  770.840027   \n",
       "2016-11-30  770.070007  772.989990  754.830017  758.039978  758.039978   \n",
       "2016-12-01  757.440002  759.849976  737.025024  747.919983  747.919983   \n",
       "2016-12-02  744.590027  754.000000  743.099976  750.500000  750.500000   \n",
       "2016-12-05  757.710022  763.900024  752.900024  762.520020  762.520020   \n",
       "\n",
       "             Volume    return  \n",
       "Date                           \n",
       "2016-11-29  1616600       NaN  \n",
       "2016-11-30  2392900 -0.016605  \n",
       "2016-12-01  3017900 -0.013350  \n",
       "2016-12-02  1452500  0.003450  \n",
       "2016-12-05  1394200  0.016016  "
      ]
     },
     "execution_count": 40,
     "metadata": {},
     "output_type": "execute_result"
    }
   ],
   "source": [
    "google.head()"
   ]
  },
  {
   "cell_type": "code",
   "execution_count": 41,
   "id": "2c29d24e",
   "metadata": {},
   "outputs": [
    {
     "data": {
      "text/plain": [
       "<AxesSubplot:xlabel='Date'>"
      ]
     },
     "execution_count": 41,
     "metadata": {},
     "output_type": "execute_result"
    },
    {
     "data": {
      "image/png": "[encoded data removed]",
      "text/plain": [
       "<Figure size 432x288 with 1 Axes>"
      ]
     },
     "metadata": {
      "needs_background": "light"
     },
     "output_type": "display_data"
    }
   ],
   "source": [
    "google['return'].plot()"
   ]
  },
  {
   "cell_type": "code",
   "execution_count": 42,
   "id": "fe13407e",
   "metadata": {},
   "outputs": [
    {
     "data": {
      "image/png": "[encoded data removed]",
      "text/plain": [
       "<Figure size 432x288 with 1 Axes>"
      ]
     },
     "metadata": {
      "needs_background": "light"
     },
     "output_type": "display_data"
    }
   ],
   "source": [
    "google['return'].hist(bins=100);"
   ]
  },
  {
   "cell_type": "code",
   "execution_count": 43,
   "id": "e526ea79",
   "metadata": {},
   "outputs": [
    {
     "data": {
      "text/plain": [
       "(0.001203795263970004, 0.016960458624511218)"
      ]
     },
     "execution_count": 43,
     "metadata": {},
     "output_type": "execute_result"
    }
   ],
   "source": [
    "google['return'].mean(), google['return'].std()"
   ]
  },
  {
   "cell_type": "code",
   "execution_count": 44,
   "id": "936d2237",
   "metadata": {},
   "outputs": [],
   "source": [
    "google['log_return'] = np.log(google['return'] + 1)"
   ]
  },
  {
   "cell_type": "code",
   "execution_count": 45,
   "id": "ef671ced",
   "metadata": {},
   "outputs": [
    {
     "data": {
      "text/html": [
       "<div>\n",
       "<style scoped>\n",
       "    .dataframe tbody tr th:only-of-type {\n",
       "        vertical-align: middle;\n",
       "    }\n",
       "\n",
       "    .dataframe tbody tr th {\n",
       "        vertical-align: top;\n",
       "    }\n",
       "\n",
       "    .dataframe thead th {\n",
       "        text-align: right;\n",
       "    }\n",
       "</style>\n",
       "<table border=\"1\" class=\"dataframe\">\n",
       "  <thead>\n",
       "    <tr style=\"text-align: right;\">\n",
       "      <th></th>\n",
       "      <th>Open</th>\n",
       "      <th>High</th>\n",
       "      <th>Low</th>\n",
       "      <th>Close</th>\n",
       "      <th>Adj Close</th>\n",
       "      <th>Volume</th>\n",
       "      <th>return</th>\n",
       "      <th>log_return</th>\n",
       "    </tr>\n",
       "    <tr>\n",
       "      <th>Date</th>\n",
       "      <th></th>\n",
       "      <th></th>\n",
       "      <th></th>\n",
       "      <th></th>\n",
       "      <th></th>\n",
       "      <th></th>\n",
       "      <th></th>\n",
       "      <th></th>\n",
       "    </tr>\n",
       "  </thead>\n",
       "  <tbody>\n",
       "    <tr>\n",
       "      <th>2016-11-29</th>\n",
       "      <td>771.530029</td>\n",
       "      <td>778.500000</td>\n",
       "      <td>768.239990</td>\n",
       "      <td>770.840027</td>\n",
       "      <td>770.840027</td>\n",
       "      <td>1616600</td>\n",
       "      <td>NaN</td>\n",
       "      <td>NaN</td>\n",
       "    </tr>\n",
       "    <tr>\n",
       "      <th>2016-11-30</th>\n",
       "      <td>770.070007</td>\n",
       "      <td>772.989990</td>\n",
       "      <td>754.830017</td>\n",
       "      <td>758.039978</td>\n",
       "      <td>758.039978</td>\n",
       "      <td>2392900</td>\n",
       "      <td>-0.016605</td>\n",
       "      <td>-0.016745</td>\n",
       "    </tr>\n",
       "    <tr>\n",
       "      <th>2016-12-01</th>\n",
       "      <td>757.440002</td>\n",
       "      <td>759.849976</td>\n",
       "      <td>737.025024</td>\n",
       "      <td>747.919983</td>\n",
       "      <td>747.919983</td>\n",
       "      <td>3017900</td>\n",
       "      <td>-0.013350</td>\n",
       "      <td>-0.013440</td>\n",
       "    </tr>\n",
       "    <tr>\n",
       "      <th>2016-12-02</th>\n",
       "      <td>744.590027</td>\n",
       "      <td>754.000000</td>\n",
       "      <td>743.099976</td>\n",
       "      <td>750.500000</td>\n",
       "      <td>750.500000</td>\n",
       "      <td>1452500</td>\n",
       "      <td>0.003450</td>\n",
       "      <td>0.003444</td>\n",
       "    </tr>\n",
       "    <tr>\n",
       "      <th>2016-12-05</th>\n",
       "      <td>757.710022</td>\n",
       "      <td>763.900024</td>\n",
       "      <td>752.900024</td>\n",
       "      <td>762.520020</td>\n",
       "      <td>762.520020</td>\n",
       "      <td>1394200</td>\n",
       "      <td>0.016016</td>\n",
       "      <td>0.015889</td>\n",
       "    </tr>\n",
       "  </tbody>\n",
       "</table>\n",
       "</div>"
      ],
      "text/plain": [
       "                  Open        High         Low       Close   Adj Close  \\\n",
       "Date                                                                     \n",
       "2016-11-29  771.530029  778.500000  768.239990  770.840027  770.840027   \n",
       "2016-11-30  770.070007  772.989990  754.830017  758.039978  758.039978   \n",
       "2016-12-01  757.440002  759.849976  737.025024  747.919983  747.919983   \n",
       "2016-12-02  744.590027  754.000000  743.099976  750.500000  750.500000   \n",
       "2016-12-05  757.710022  763.900024  752.900024  762.520020  762.520020   \n",
       "\n",
       "             Volume    return  log_return  \n",
       "Date                                       \n",
       "2016-11-29  1616600       NaN         NaN  \n",
       "2016-11-30  2392900 -0.016605   -0.016745  \n",
       "2016-12-01  3017900 -0.013350   -0.013440  \n",
       "2016-12-02  1452500  0.003450    0.003444  \n",
       "2016-12-05  1394200  0.016016    0.015889  "
      ]
     },
     "execution_count": 45,
     "metadata": {},
     "output_type": "execute_result"
    }
   ],
   "source": [
    "google.head()"
   ]
  },
  {
   "cell_type": "code",
   "execution_count": 47,
   "id": "98ed6ecd",
   "metadata": {},
   "outputs": [
    {
     "data": {
      "image/png": "[encoded data removed]",
      "text/plain": [
       "<Figure size 432x288 with 1 Axes>"
      ]
     },
     "metadata": {
      "needs_background": "light"
     },
     "output_type": "display_data"
    }
   ],
   "source": [
    "google['log_return'].hist(bins=100);"
   ]
  },
  {
   "cell_type": "code",
   "execution_count": 48,
   "id": "3644c712",
   "metadata": {},
   "outputs": [
    {
     "data": {
      "text/plain": [
       "(0.0010593869104365506, 0.01697112335802223)"
      ]
     },
     "execution_count": 48,
     "metadata": {},
     "output_type": "execute_result"
    }
   ],
   "source": [
    "google['log_return'].mean(), google['log_return'].std()"
   ]
  },
  {
   "cell_type": "code",
   "execution_count": 50,
   "id": "4f8d3cae",
   "metadata": {},
   "outputs": [],
   "source": [
    "from scipy.stats import norm"
   ]
  },
  {
   "cell_type": "code",
   "execution_count": 51,
   "id": "4a4022db",
   "metadata": {},
   "outputs": [],
   "source": [
    "x_list = np.linspace(\n",
    "        google['return'].min(),\n",
    "        google['return'].max(),\n",
    "        100)"
   ]
  },
  {
   "cell_type": "code",
   "execution_count": 52,
   "id": "a02fa330",
   "metadata": {},
   "outputs": [],
   "source": [
    "y_list = norm.pdf(x_list, loc=google['return'].mean(), scale = google['return'].std())"
   ]
  },
  {
   "cell_type": "code",
   "execution_count": 55,
   "id": "7b8fc52b",
   "metadata": {},
   "outputs": [
    {
     "data": {
      "image/png": "[encoded data removed]",
      "text/plain": [
       "<Figure size 432x288 with 1 Axes>"
      ]
     },
     "metadata": {
      "needs_background": "light"
     },
     "output_type": "display_data"
    }
   ],
   "source": [
    "plt.plot(x_list, y_list);\n",
    "google['return'].hist(bins=100, density=True);"
   ]
  },
  {
   "cell_type": "code",
   "execution_count": 56,
   "id": "760186c8",
   "metadata": {},
   "outputs": [],
   "source": [
    "from scipy.stats import probplot"
   ]
  },
  {
   "cell_type": "code",
   "execution_count": 57,
   "id": "d64dbe44",
   "metadata": {},
   "outputs": [
    {
     "data": {
      "image/png": "[encoded data removed]",
      "text/plain": [
       "<Figure size 432x288 with 1 Axes>"
      ]
     },
     "metadata": {
      "needs_background": "light"
     },
     "output_type": "display_data"
    }
   ],
   "source": [
    "probplot(google['return'].dropna(), dist='norm', fit=True, plot=plt);"
   ]
  },
  {
   "cell_type": "code",
   "execution_count": 59,
   "id": "f4a5fc10",
   "metadata": {},
   "outputs": [],
   "source": [
    "import statsmodels.api as sm"
   ]
  },
  {
   "cell_type": "code",
   "execution_count": 60,
   "id": "5367ef79",
   "metadata": {},
   "outputs": [
    {
     "data": {
      "image/png": "[encoded data removed]",
      "text/plain": [
       "<Figure size 432x288 with 1 Axes>"
      ]
     },
     "metadata": {
      "needs_background": "light"
     },
     "output_type": "display_data"
    }
   ],
   "source": [
    "sm.qqplot(google['return'].dropna(), line = 's');"
   ]
  },
  {
   "cell_type": "code",
   "execution_count": 61,
   "id": "e27c3bce",
   "metadata": {},
   "outputs": [],
   "source": [
    "x_list = np.linspace(\n",
    "        google['log_return'].min(),\n",
    "        google['log_return'].max(),\n",
    "        100)"
   ]
  },
  {
   "cell_type": "code",
   "execution_count": 62,
   "id": "e9b92298",
   "metadata": {},
   "outputs": [],
   "source": [
    "y_list = norm.pdf(x_list, loc=google['log_return'].mean(), scale = google['log_return'].std())"
   ]
  },
  {
   "cell_type": "code",
   "execution_count": 63,
   "id": "9ff3cb0a",
   "metadata": {},
   "outputs": [
    {
     "data": {
      "image/png": "[encoded data removed]",
      "text/plain": [
       "<Figure size 432x288 with 1 Axes>"
      ]
     },
     "metadata": {
      "needs_background": "light"
     },
     "output_type": "display_data"
    }
   ],
   "source": [
    "plt.plot(x_list, y_list);\n",
    "google['log_return'].hist(bins=100, density=True);"
   ]
  },
  {
   "cell_type": "code",
   "execution_count": 64,
   "id": "f0c1ea6b",
   "metadata": {},
   "outputs": [
    {
     "data": {
      "image/png": "[encoded data removed]",
      "text/plain": [
       "<Figure size 432x288 with 1 Axes>"
      ]
     },
     "metadata": {
      "needs_background": "light"
     },
     "output_type": "display_data"
    }
   ],
   "source": [
    "sm.qqplot(google['log_return'].dropna(), line = 's');"
   ]
  },
  {
   "cell_type": "code",
   "execution_count": 65,
   "id": "55d55d3e",
   "metadata": {},
   "outputs": [],
   "source": [
    "from scipy.stats import t"
   ]
  },
  {
   "cell_type": "code",
   "execution_count": 66,
   "id": "f5c6e270",
   "metadata": {},
   "outputs": [],
   "source": [
    "x_list = np.linspace(\n",
    "    google['return'].min(),\n",
    "    google['return'].max(),\n",
    "    100)"
   ]
  },
  {
   "cell_type": "code",
   "execution_count": 67,
   "id": "40fcf03d",
   "metadata": {},
   "outputs": [],
   "source": [
    "params = t.fit(google['return'].dropna())"
   ]
  },
  {
   "cell_type": "code",
   "execution_count": 68,
   "id": "b02a70b7",
   "metadata": {},
   "outputs": [
    {
     "data": {
      "text/plain": [
       "(2.6059636027134823, 0.0017498290636187449, 0.009888576368668805)"
      ]
     },
     "execution_count": 68,
     "metadata": {},
     "output_type": "execute_result"
    }
   ],
   "source": [
    "params"
   ]
  },
  {
   "cell_type": "code",
   "execution_count": 69,
   "id": "897bdc0a",
   "metadata": {},
   "outputs": [],
   "source": [
    "df, loc, scale = params"
   ]
  },
  {
   "cell_type": "code",
   "execution_count": 70,
   "id": "c730820a",
   "metadata": {},
   "outputs": [],
   "source": [
    "y_list = t.pdf(x_list, df, loc, scale)"
   ]
  },
  {
   "cell_type": "code",
   "execution_count": 72,
   "id": "c84d37e2",
   "metadata": {},
   "outputs": [
    {
     "data": {
      "image/png": "[encoded data removed]",
      "text/plain": [
       "<Figure size 432x288 with 1 Axes>"
      ]
     },
     "metadata": {
      "needs_background": "light"
     },
     "output_type": "display_data"
    }
   ],
   "source": [
    "plt.plot(x_list, y_list);\n",
    "google['return'].hist(bins=100, density=True);"
   ]
  },
  {
   "cell_type": "code",
   "execution_count": 73,
   "id": "82b0640c",
   "metadata": {},
   "outputs": [
    {
     "data": {
      "image/png": "[encoded data removed]",
      "text/plain": [
       "<Figure size 432x288 with 1 Axes>"
      ]
     },
     "metadata": {
      "needs_background": "light"
     },
     "output_type": "display_data"
    }
   ],
   "source": [
    "class myt:\n",
    "  def __init__(self, df):\n",
    "    self.df = df\n",
    "  \n",
    "  def fit(self, x):\n",
    "    return t.fit(x)\n",
    "  \n",
    "  def ppf(self, x, loc=0, scale=1):\n",
    "    return t.ppf(x, self.df, loc, scale)\n",
    "\n",
    "sm.qqplot(google['return'].dropna(), dist=myt(df), line='s');"
   ]
  },
  {
   "cell_type": "code",
   "execution_count": 74,
   "id": "f710ac11",
   "metadata": {},
   "outputs": [],
   "source": [
    "x_list = np.linspace(\n",
    "    google['log_return'].min(),\n",
    "    google['log_return'].max(),\n",
    "    100)"
   ]
  },
  {
   "cell_type": "code",
   "execution_count": 75,
   "id": "7f9a3efe",
   "metadata": {},
   "outputs": [],
   "source": [
    "params1 = t.fit(google['log_return'].dropna())"
   ]
  },
  {
   "cell_type": "code",
   "execution_count": 76,
   "id": "25c0d9d8",
   "metadata": {},
   "outputs": [],
   "source": [
    "df, loc, scale = params1"
   ]
  },
  {
   "cell_type": "code",
   "execution_count": 77,
   "id": "09570450",
   "metadata": {},
   "outputs": [],
   "source": [
    "y_list = t.pdf(x_list, df, loc, scale)"
   ]
  },
  {
   "cell_type": "code",
   "execution_count": 78,
   "id": "1105ca92",
   "metadata": {},
   "outputs": [
    {
     "data": {
      "image/png": "[encoded data removed]",
      "text/plain": [
       "<Figure size 432x288 with 1 Axes>"
      ]
     },
     "metadata": {
      "needs_background": "light"
     },
     "output_type": "display_data"
    }
   ],
   "source": [
    "plt.plot(x_list, y_list);\n",
    "google['log_return'].hist(bins=100, density=True);"
   ]
  },
  {
   "cell_type": "code",
   "execution_count": 79,
   "id": "50e7f529",
   "metadata": {},
   "outputs": [
    {
     "data": {
      "image/png": "[encoded data removed]",
      "text/plain": [
       "<Figure size 432x288 with 1 Axes>"
      ]
     },
     "metadata": {
      "needs_background": "light"
     },
     "output_type": "display_data"
    }
   ],
   "source": [
    "sm.qqplot(google['log_return'].dropna(), dist=myt(df), line='s');"
   ]
  },
  {
   "cell_type": "code",
   "execution_count": 84,
   "id": "9c0e9182",
   "metadata": {},
   "outputs": [
    {
     "data": {
      "text/plain": [
       "-0.07843596331617174"
      ]
     },
     "execution_count": 84,
     "metadata": {},
     "output_type": "execute_result"
    }
   ],
   "source": [
    "google['return'].skew()"
   ]
  },
  {
   "cell_type": "code",
   "execution_count": 81,
   "id": "e753c799",
   "metadata": {},
   "outputs": [
    {
     "data": {
      "text/plain": [
       "6.178306028034443"
      ]
     },
     "execution_count": 81,
     "metadata": {},
     "output_type": "execute_result"
    }
   ],
   "source": [
    "google['return'].kurtosis()"
   ]
  },
  {
   "cell_type": "code",
   "execution_count": 85,
   "id": "d932d193",
   "metadata": {},
   "outputs": [
    {
     "data": {
      "text/plain": [
       "-0.2855611949580584"
      ]
     },
     "execution_count": 85,
     "metadata": {},
     "output_type": "execute_result"
    }
   ],
   "source": [
    "google['log_return'].skew()"
   ]
  },
  {
   "cell_type": "code",
   "execution_count": 83,
   "id": "750ef419",
   "metadata": {},
   "outputs": [
    {
     "data": {
      "text/plain": [
       "6.251968034518784"
      ]
     },
     "execution_count": 83,
     "metadata": {},
     "output_type": "execute_result"
    }
   ],
   "source": [
    "google['log_return'].kurtosis()"
   ]
  },
  {
   "cell_type": "code",
   "execution_count": 86,
   "id": "682f752d",
   "metadata": {},
   "outputs": [
    {
     "data": {
      "text/plain": [
       "(0.03474361028687015, -0.038056544578669804)"
      ]
     },
     "execution_count": 86,
     "metadata": {},
     "output_type": "execute_result"
    }
   ],
   "source": [
    "samp = pd.Series(np.random.randn(10000))\n",
    "samp.skew(), samp.kurtosis()"
   ]
  },
  {
   "cell_type": "code",
   "execution_count": 87,
   "id": "dbeddbdc",
   "metadata": {},
   "outputs": [],
   "source": [
    "values = google['return'].dropna().to_numpy()"
   ]
  },
  {
   "cell_type": "code",
   "execution_count": 88,
   "id": "ef6bc2ab",
   "metadata": {},
   "outputs": [],
   "source": [
    "m = values.mean()\n",
    "s = values.std(ddof=1)"
   ]
  },
  {
   "cell_type": "code",
   "execution_count": 89,
   "id": "660cd0d8",
   "metadata": {},
   "outputs": [],
   "source": [
    "low = m - 1.96 * s / np.sqrt(len(values))\n",
    "high = m + 1.96 * s / np.sqrt(len(values))"
   ]
  },
  {
   "cell_type": "code",
   "execution_count": 96,
   "id": "7fd96c36",
   "metadata": {},
   "outputs": [
    {
     "data": {
      "image/png": "[encoded data removed]",
      "text/plain": [
       "<Figure size 432x288 with 1 Axes>"
      ]
     },
     "metadata": {
      "needs_background": "light"
     },
     "output_type": "display_data"
    }
   ],
   "source": [
    "google['return'].hist(bins=100, density=True);\n",
    "plt.axvline(m, label='mean', color='red');\n",
    "plt.axvline(low, label='low', color='green');\n",
    "plt.axvline(high, label='high', color='green');\n",
    "plt.legend();"
   ]
  },
  {
   "cell_type": "code",
   "execution_count": 98,
   "id": "478cc362",
   "metadata": {},
   "outputs": [
    {
     "data": {
      "image/png": "[encoded data removed]",
      "text/plain": [
       "<Figure size 432x288 with 1 Axes>"
      ]
     },
     "metadata": {
      "needs_background": "light"
     },
     "output_type": "display_data"
    }
   ],
   "source": [
    "plt.axvline(m, label='mean', color='red');\n",
    "plt.axvline(low, label='low', color='green');\n",
    "plt.axvline(high, label='high', color='green');\n",
    "plt.axvline(0, label='zero', color='blue');\n",
    "plt.legend();"
   ]
  },
  {
   "cell_type": "code",
   "execution_count": 99,
   "id": "0564c62a",
   "metadata": {},
   "outputs": [],
   "source": [
    "from scipy.stats import jarque_bera, normaltest"
   ]
  },
  {
   "cell_type": "code",
   "execution_count": 100,
   "id": "d2596d13",
   "metadata": {},
   "outputs": [
    {
     "data": {
      "text/plain": [
       "Jarque_beraResult(statistic=1983.1790083889696, pvalue=0.0)"
      ]
     },
     "execution_count": 100,
     "metadata": {},
     "output_type": "execute_result"
    }
   ],
   "source": [
    "jarque_bera(values)"
   ]
  },
  {
   "cell_type": "code",
   "execution_count": 101,
   "id": "9b611e98",
   "metadata": {},
   "outputs": [
    {
     "data": {
      "text/plain": [
       "NormaltestResult(statistic=171.04539513435682, pvalue=7.21048319649252e-38)"
      ]
     },
     "execution_count": 101,
     "metadata": {},
     "output_type": "execute_result"
    }
   ],
   "source": [
    "normaltest(values)"
   ]
  },
  {
   "cell_type": "code",
   "execution_count": 102,
   "id": "a67de378",
   "metadata": {},
   "outputs": [
    {
     "data": {
      "text/plain": [
       "Jarque_beraResult(statistic=2046.5264694718082, pvalue=0.0)"
      ]
     },
     "execution_count": 102,
     "metadata": {},
     "output_type": "execute_result"
    }
   ],
   "source": [
    "jarque_bera(google['log_return'].dropna())"
   ]
  },
  {
   "cell_type": "code",
   "execution_count": 103,
   "id": "afd91a66",
   "metadata": {},
   "outputs": [
    {
     "data": {
      "text/plain": [
       "NormaltestResult(statistic=187.7792415654473, pvalue=1.6759296563578533e-41)"
      ]
     },
     "execution_count": 103,
     "metadata": {},
     "output_type": "execute_result"
    }
   ],
   "source": [
    "normaltest(google['log_return'].dropna())"
   ]
  },
  {
   "cell_type": "code",
   "execution_count": null,
   "id": "cd6ad3cf",
   "metadata": {},
   "outputs": [],
   "source": []
  }
 ],
 "metadata": {
  "kernelspec": {
   "display_name": "Python [conda env:myenv]",
   "language": "python",
   "name": "conda-env-myenv-py"
  },
  "language_info": {
   "codemirror_mode": {
    "name": "ipython",
    "version": 3
   },
   "file_extension": ".py",
   "mimetype": "text/x-python",
   "name": "python",
   "nbconvert_exporter": "python",
   "pygments_lexer": "ipython3",
   "version": "3.9.7"
  }
 },
 "nbformat": 4,
 "nbformat_minor": 5
}
